{
 "cells": [
  {
   "cell_type": "markdown",
   "id": "2506d7f3",
   "metadata": {},
   "source": [
    "# Data-Pipelines"
   ]
  },
  {
   "cell_type": "markdown",
   "id": "1041b7b5",
   "metadata": {},
   "source": [
    "## Libraries\n"
   ]
  },
  {
   "cell_type": "code",
   "execution_count": 1,
   "id": "63cf7443",
   "metadata": {},
   "outputs": [],
   "source": [
    "import seaborn as sns\n",
    "import matplotlib.pyplot as plt\n",
    "import pandas as pd\n",
    "import plotly.express as px\n",
    "import re\n",
    "import numpy as np\n",
    "import squarify \n",
    "import calendar\n",
    "import requests\n",
    "from bs4 import BeautifulSoup\n",
    "import pycountry"
   ]
  },
  {
   "cell_type": "markdown",
   "id": "362f5429",
   "metadata": {},
   "source": [
    "### Functions"
   ]
  },
  {
   "cell_type": "code",
   "execution_count": 2,
   "id": "b80bc5ca",
   "metadata": {},
   "outputs": [],
   "source": [
    "import scraper as scr\n",
    "import api_extract as api"
   ]
  },
  {
   "cell_type": "markdown",
   "id": "7ebf92a5",
   "metadata": {},
   "source": [
    "## Context and hypotheses"
   ]
  },
  {
   "cell_type": "markdown",
   "id": "0bf02552",
   "metadata": {},
   "source": [
    "Other possible variables to consider, not included in this analysis: unemployment rate, gender (in)equality"
   ]
  },
  {
   "cell_type": "markdown",
   "id": "7da9f4ed",
   "metadata": {},
   "source": [
    "## Data Collection Process"
   ]
  },
  {
   "cell_type": "markdown",
   "id": "366123dd",
   "metadata": {},
   "source": [
    "### Original Dataset from Kaggle"
   ]
  },
  {
   "cell_type": "code",
   "execution_count": 3,
   "id": "3a06fb8e",
   "metadata": {},
   "outputs": [],
   "source": [
    "## Objetivo: Descargar un datset y enriqucerlo con api y web spcraping"
   ]
  },
  {
   "cell_type": "markdown",
   "id": "105978fc",
   "metadata": {},
   "source": [
    "World happiness report 2015-2022 (AUTHORS, LITTLE EXPLANATION REPORT AND DATASET, IN WHICH CHAPTER THEY USE DATASET, MAYBE SHOW ORIGINAL GRAPHS FROM REPORT\n",
    "--> stuty happiest/least happy countries relate with pollution around the world. \n",
    "Web scraping of https://worldpopulationreview.com/country-rankings/most-polluted-countries "
   ]
  },
  {
   "cell_type": "code",
   "execution_count": 4,
   "id": "e57d2164",
   "metadata": {},
   "outputs": [],
   "source": [
    "df = pd.read_csv(\"../input/world-happiness-report-2015-2022-cleaned.csv\")"
   ]
  },
  {
   "cell_type": "code",
   "execution_count": 5,
   "id": "3331b6d6",
   "metadata": {
    "scrolled": false
   },
   "outputs": [
    {
     "data": {
      "text/html": [
       "<div>\n",
       "<style scoped>\n",
       "    .dataframe tbody tr th:only-of-type {\n",
       "        vertical-align: middle;\n",
       "    }\n",
       "\n",
       "    .dataframe tbody tr th {\n",
       "        vertical-align: top;\n",
       "    }\n",
       "\n",
       "    .dataframe thead th {\n",
       "        text-align: right;\n",
       "    }\n",
       "</style>\n",
       "<table border=\"1\" class=\"dataframe\">\n",
       "  <thead>\n",
       "    <tr style=\"text-align: right;\">\n",
       "      <th></th>\n",
       "      <th>Unnamed: 0</th>\n",
       "      <th>Happiness Rank</th>\n",
       "      <th>Country</th>\n",
       "      <th>Region</th>\n",
       "      <th>Happiness Score</th>\n",
       "      <th>Economy (GDP per Capita)</th>\n",
       "      <th>Family (Social Support)</th>\n",
       "      <th>Health (Life Expectancy)</th>\n",
       "      <th>Freedom</th>\n",
       "      <th>Trust (Government Corruption)</th>\n",
       "      <th>Generosity</th>\n",
       "      <th>Year</th>\n",
       "    </tr>\n",
       "  </thead>\n",
       "  <tbody>\n",
       "    <tr>\n",
       "      <th>0</th>\n",
       "      <td>0</td>\n",
       "      <td>1</td>\n",
       "      <td>Switzerland</td>\n",
       "      <td>Western Europe</td>\n",
       "      <td>7.587</td>\n",
       "      <td>1.39651</td>\n",
       "      <td>1.34951</td>\n",
       "      <td>0.94143</td>\n",
       "      <td>0.66557</td>\n",
       "      <td>0.41978</td>\n",
       "      <td>0.29678</td>\n",
       "      <td>2015</td>\n",
       "    </tr>\n",
       "    <tr>\n",
       "      <th>1</th>\n",
       "      <td>1</td>\n",
       "      <td>2</td>\n",
       "      <td>Iceland</td>\n",
       "      <td>Western Europe</td>\n",
       "      <td>7.561</td>\n",
       "      <td>1.30232</td>\n",
       "      <td>1.40223</td>\n",
       "      <td>0.94784</td>\n",
       "      <td>0.62877</td>\n",
       "      <td>0.14145</td>\n",
       "      <td>0.4363</td>\n",
       "      <td>2015</td>\n",
       "    </tr>\n",
       "    <tr>\n",
       "      <th>2</th>\n",
       "      <td>2</td>\n",
       "      <td>3</td>\n",
       "      <td>Denmark</td>\n",
       "      <td>Western Europe</td>\n",
       "      <td>7.527</td>\n",
       "      <td>1.32548</td>\n",
       "      <td>1.36058</td>\n",
       "      <td>0.87464</td>\n",
       "      <td>0.64938</td>\n",
       "      <td>0.48357</td>\n",
       "      <td>0.34139</td>\n",
       "      <td>2015</td>\n",
       "    </tr>\n",
       "    <tr>\n",
       "      <th>3</th>\n",
       "      <td>3</td>\n",
       "      <td>4</td>\n",
       "      <td>Norway</td>\n",
       "      <td>Western Europe</td>\n",
       "      <td>7.522</td>\n",
       "      <td>1.459</td>\n",
       "      <td>1.33095</td>\n",
       "      <td>0.88521</td>\n",
       "      <td>0.66973</td>\n",
       "      <td>0.36503</td>\n",
       "      <td>0.34699</td>\n",
       "      <td>2015</td>\n",
       "    </tr>\n",
       "    <tr>\n",
       "      <th>4</th>\n",
       "      <td>4</td>\n",
       "      <td>5</td>\n",
       "      <td>Canada</td>\n",
       "      <td>North America</td>\n",
       "      <td>7.427</td>\n",
       "      <td>1.32629</td>\n",
       "      <td>1.32261</td>\n",
       "      <td>0.90563</td>\n",
       "      <td>0.63297</td>\n",
       "      <td>0.32957</td>\n",
       "      <td>0.45811</td>\n",
       "      <td>2015</td>\n",
       "    </tr>\n",
       "    <tr>\n",
       "      <th>...</th>\n",
       "      <td>...</td>\n",
       "      <td>...</td>\n",
       "      <td>...</td>\n",
       "      <td>...</td>\n",
       "      <td>...</td>\n",
       "      <td>...</td>\n",
       "      <td>...</td>\n",
       "      <td>...</td>\n",
       "      <td>...</td>\n",
       "      <td>...</td>\n",
       "      <td>...</td>\n",
       "      <td>...</td>\n",
       "    </tr>\n",
       "    <tr>\n",
       "      <th>1224</th>\n",
       "      <td>141</td>\n",
       "      <td>142</td>\n",
       "      <td>Botswana*</td>\n",
       "      <td>-</td>\n",
       "      <td>3,471</td>\n",
       "      <td>1,503</td>\n",
       "      <td>0,815</td>\n",
       "      <td>0,280</td>\n",
       "      <td>0,571</td>\n",
       "      <td>0,102</td>\n",
       "      <td>0,012</td>\n",
       "      <td>2022</td>\n",
       "    </tr>\n",
       "    <tr>\n",
       "      <th>1225</th>\n",
       "      <td>142</td>\n",
       "      <td>143</td>\n",
       "      <td>Rwanda*</td>\n",
       "      <td>-</td>\n",
       "      <td>3,268</td>\n",
       "      <td>0,785</td>\n",
       "      <td>0,133</td>\n",
       "      <td>0,462</td>\n",
       "      <td>0,621</td>\n",
       "      <td>0,544</td>\n",
       "      <td>0,187</td>\n",
       "      <td>2022</td>\n",
       "    </tr>\n",
       "    <tr>\n",
       "      <th>1226</th>\n",
       "      <td>143</td>\n",
       "      <td>144</td>\n",
       "      <td>Zimbabwe</td>\n",
       "      <td>Sub-Saharan Africa</td>\n",
       "      <td>2,995</td>\n",
       "      <td>0,947</td>\n",
       "      <td>0,690</td>\n",
       "      <td>0,270</td>\n",
       "      <td>0,329</td>\n",
       "      <td>0,105</td>\n",
       "      <td>0,106</td>\n",
       "      <td>2022</td>\n",
       "    </tr>\n",
       "    <tr>\n",
       "      <th>1227</th>\n",
       "      <td>144</td>\n",
       "      <td>145</td>\n",
       "      <td>Lebanon</td>\n",
       "      <td>Middle East and Northern Africa</td>\n",
       "      <td>2,955</td>\n",
       "      <td>1,392</td>\n",
       "      <td>0,498</td>\n",
       "      <td>0,631</td>\n",
       "      <td>0,103</td>\n",
       "      <td>0,034</td>\n",
       "      <td>0,082</td>\n",
       "      <td>2022</td>\n",
       "    </tr>\n",
       "    <tr>\n",
       "      <th>1228</th>\n",
       "      <td>145</td>\n",
       "      <td>146</td>\n",
       "      <td>Afghanistan</td>\n",
       "      <td>Southern Asia</td>\n",
       "      <td>2,404</td>\n",
       "      <td>0,758</td>\n",
       "      <td>0,000</td>\n",
       "      <td>0,289</td>\n",
       "      <td>0,000</td>\n",
       "      <td>0,005</td>\n",
       "      <td>0,089</td>\n",
       "      <td>2022</td>\n",
       "    </tr>\n",
       "  </tbody>\n",
       "</table>\n",
       "<p>1229 rows × 12 columns</p>\n",
       "</div>"
      ],
      "text/plain": [
       "      Unnamed: 0  Happiness Rank      Country  \\\n",
       "0              0               1  Switzerland   \n",
       "1              1               2      Iceland   \n",
       "2              2               3      Denmark   \n",
       "3              3               4       Norway   \n",
       "4              4               5       Canada   \n",
       "...          ...             ...          ...   \n",
       "1224         141             142    Botswana*   \n",
       "1225         142             143      Rwanda*   \n",
       "1226         143             144     Zimbabwe   \n",
       "1227         144             145      Lebanon   \n",
       "1228         145             146  Afghanistan   \n",
       "\n",
       "                               Region Happiness Score  \\\n",
       "0                      Western Europe           7.587   \n",
       "1                      Western Europe           7.561   \n",
       "2                      Western Europe           7.527   \n",
       "3                      Western Europe           7.522   \n",
       "4                       North America           7.427   \n",
       "...                               ...             ...   \n",
       "1224                                -           3,471   \n",
       "1225                                -           3,268   \n",
       "1226               Sub-Saharan Africa           2,995   \n",
       "1227  Middle East and Northern Africa           2,955   \n",
       "1228                    Southern Asia           2,404   \n",
       "\n",
       "     Economy (GDP per Capita) Family (Social Support)  \\\n",
       "0                     1.39651                 1.34951   \n",
       "1                     1.30232                 1.40223   \n",
       "2                     1.32548                 1.36058   \n",
       "3                       1.459                 1.33095   \n",
       "4                     1.32629                 1.32261   \n",
       "...                       ...                     ...   \n",
       "1224                    1,503                   0,815   \n",
       "1225                    0,785                   0,133   \n",
       "1226                    0,947                   0,690   \n",
       "1227                    1,392                   0,498   \n",
       "1228                    0,758                   0,000   \n",
       "\n",
       "     Health (Life Expectancy)  Freedom Trust (Government Corruption)  \\\n",
       "0                     0.94143  0.66557                       0.41978   \n",
       "1                     0.94784  0.62877                       0.14145   \n",
       "2                     0.87464  0.64938                       0.48357   \n",
       "3                     0.88521  0.66973                       0.36503   \n",
       "4                     0.90563  0.63297                       0.32957   \n",
       "...                       ...      ...                           ...   \n",
       "1224                    0,280    0,571                         0,102   \n",
       "1225                    0,462    0,621                         0,544   \n",
       "1226                    0,270    0,329                         0,105   \n",
       "1227                    0,631    0,103                         0,034   \n",
       "1228                    0,289    0,000                         0,005   \n",
       "\n",
       "     Generosity  Year  \n",
       "0       0.29678  2015  \n",
       "1        0.4363  2015  \n",
       "2       0.34139  2015  \n",
       "3       0.34699  2015  \n",
       "4       0.45811  2015  \n",
       "...         ...   ...  \n",
       "1224      0,012  2022  \n",
       "1225      0,187  2022  \n",
       "1226      0,106  2022  \n",
       "1227      0,082  2022  \n",
       "1228      0,089  2022  \n",
       "\n",
       "[1229 rows x 12 columns]"
      ]
     },
     "execution_count": 5,
     "metadata": {},
     "output_type": "execute_result"
    }
   ],
   "source": [
    "df"
   ]
  },
  {
   "cell_type": "code",
   "execution_count": 6,
   "id": "26fbddd4",
   "metadata": {},
   "outputs": [
    {
     "name": "stderr",
     "output_type": "stream",
     "text": [
      "/var/folders/_3/sh9lq8cx353bw8jn9pybzhn00000gn/T/ipykernel_88751/2626315879.py:1: FutureWarning: The default value of regex will change from True to False in a future version. In addition, single character regular expressions will *not* be treated as literal strings when regex=True.\n",
      "  df['Country'] = df['Country'].str.replace(\"*\", \"\")\n"
     ]
    }
   ],
   "source": [
    "df['Country'] = df['Country'].str.replace(\"*\", \"\")"
   ]
  },
  {
   "cell_type": "markdown",
   "id": "9b934a7b",
   "metadata": {},
   "source": [
    "### IQ Air Web scraping"
   ]
  },
  {
   "cell_type": "code",
   "execution_count": 7,
   "id": "a698b3d6",
   "metadata": {},
   "outputs": [],
   "source": [
    "## Web scraping to obtain air pollution by country\n",
    "# Website = https://www.iqair.com/world-most-polluted-countries\n",
    "# table = Most polluted country and region ranking based on annual average PM2.5 concentration (μg/m³)"
   ]
  },
  {
   "cell_type": "markdown",
   "id": "e29b45a8",
   "metadata": {},
   "source": [
    "Find the following columns from the website:\n",
    "- Rank\n",
    "- Country/Region\t\n",
    "- 2018\t\t\n",
    "- 2019\t\n",
    "- 2020\t\n",
    "- 2021\n",
    "- Population"
   ]
  },
  {
   "cell_type": "code",
   "execution_count": 14,
   "id": "c6d56098",
   "metadata": {},
   "outputs": [],
   "source": [
    "pollution = scr.scrape_iqair()"
   ]
  },
  {
   "cell_type": "code",
   "execution_count": 15,
   "id": "03fb2846",
   "metadata": {},
   "outputs": [
    {
     "data": {
      "text/html": [
       "<div>\n",
       "<style scoped>\n",
       "    .dataframe tbody tr th:only-of-type {\n",
       "        vertical-align: middle;\n",
       "    }\n",
       "\n",
       "    .dataframe tbody tr th {\n",
       "        vertical-align: top;\n",
       "    }\n",
       "\n",
       "    .dataframe thead th {\n",
       "        text-align: right;\n",
       "    }\n",
       "</style>\n",
       "<table border=\"1\" class=\"dataframe\">\n",
       "  <thead>\n",
       "    <tr style=\"text-align: right;\">\n",
       "      <th></th>\n",
       "      <th>Country</th>\n",
       "      <th>Population</th>\n",
       "      <th>Year</th>\n",
       "      <th>Pollution</th>\n",
       "    </tr>\n",
       "  </thead>\n",
       "  <tbody>\n",
       "    <tr>\n",
       "      <th>0</th>\n",
       "      <td>Bangladesh</td>\n",
       "      <td>164,689,383</td>\n",
       "      <td>2018</td>\n",
       "      <td>97.1</td>\n",
       "    </tr>\n",
       "    <tr>\n",
       "      <th>1</th>\n",
       "      <td>Chad</td>\n",
       "      <td>16,425,859</td>\n",
       "      <td>2018</td>\n",
       "      <td>-</td>\n",
       "    </tr>\n",
       "    <tr>\n",
       "      <th>2</th>\n",
       "      <td>Pakistan</td>\n",
       "      <td>220,892,331</td>\n",
       "      <td>2018</td>\n",
       "      <td>74.3</td>\n",
       "    </tr>\n",
       "    <tr>\n",
       "      <th>3</th>\n",
       "      <td>Tajikistan</td>\n",
       "      <td>9,537,642</td>\n",
       "      <td>2018</td>\n",
       "      <td>-</td>\n",
       "    </tr>\n",
       "    <tr>\n",
       "      <th>4</th>\n",
       "      <td>India</td>\n",
       "      <td>1,380,004,385</td>\n",
       "      <td>2018</td>\n",
       "      <td>72.5</td>\n",
       "    </tr>\n",
       "    <tr>\n",
       "      <th>...</th>\n",
       "      <td>...</td>\n",
       "      <td>...</td>\n",
       "      <td>...</td>\n",
       "      <td>...</td>\n",
       "    </tr>\n",
       "    <tr>\n",
       "      <th>463</th>\n",
       "      <td>Bonaire, Saint Eustatius and Saba</td>\n",
       "      <td>26,221</td>\n",
       "      <td>2021</td>\n",
       "      <td>5.1</td>\n",
       "    </tr>\n",
       "    <tr>\n",
       "      <th>464</th>\n",
       "      <td>Cape Verde</td>\n",
       "      <td>555,988</td>\n",
       "      <td>2021</td>\n",
       "      <td>5.1</td>\n",
       "    </tr>\n",
       "    <tr>\n",
       "      <th>465</th>\n",
       "      <td>Puerto Rico</td>\n",
       "      <td>2,860,840</td>\n",
       "      <td>2021</td>\n",
       "      <td>4.8</td>\n",
       "    </tr>\n",
       "    <tr>\n",
       "      <th>466</th>\n",
       "      <td>U.S. Virgin Islands</td>\n",
       "      <td>104,423</td>\n",
       "      <td>2021</td>\n",
       "      <td>4.5</td>\n",
       "    </tr>\n",
       "    <tr>\n",
       "      <th>467</th>\n",
       "      <td>New Caledonia</td>\n",
       "      <td>285,491</td>\n",
       "      <td>2021</td>\n",
       "      <td>3.8</td>\n",
       "    </tr>\n",
       "  </tbody>\n",
       "</table>\n",
       "<p>468 rows × 4 columns</p>\n",
       "</div>"
      ],
      "text/plain": [
       "                               Country     Population  Year Pollution\n",
       "0                           Bangladesh    164,689,383  2018      97.1\n",
       "1                                 Chad     16,425,859  2018         -\n",
       "2                             Pakistan    220,892,331  2018      74.3\n",
       "3                           Tajikistan      9,537,642  2018         -\n",
       "4                                India  1,380,004,385  2018      72.5\n",
       "..                                 ...            ...   ...       ...\n",
       "463  Bonaire, Saint Eustatius and Saba         26,221  2021       5.1\n",
       "464                         Cape Verde        555,988  2021       5.1\n",
       "465                        Puerto Rico      2,860,840  2021       4.8\n",
       "466                U.S. Virgin Islands        104,423  2021       4.5\n",
       "467                      New Caledonia        285,491  2021       3.8\n",
       "\n",
       "[468 rows x 4 columns]"
      ]
     },
     "execution_count": 15,
     "metadata": {},
     "output_type": "execute_result"
    }
   ],
   "source": [
    "pollution"
   ]
  },
  {
   "cell_type": "markdown",
   "id": "9defab85",
   "metadata": {},
   "source": [
    "###  World Bank Indicators API"
   ]
  },
  {
   "cell_type": "markdown",
   "id": "537104c5",
   "metadata": {},
   "source": [
    "The World Bank Indicators API provides access to nearly 16,000 time series indicators. Most of these indicators are available online through tools such as Databank and the Open Data website. The API provides programmatic access to this same data. Many data series date back over 50 years, and can be used to create interesting applications.\n",
    "The Indicators API provides access to over 45 databases and no authentication method is required to access the API.\n",
    "\n",
    "**URL usage**\n",
    "\n",
    "The basic url for the v2 API version of the World Bank Indicators is `http://api.worldbank.org/v2/country/all/indicator/indicator_code` where indicator_code has to be replaced by the id of the indicator to extract data for.\n",
    "\n",
    "The API supports query string on the url, and the following ones have been used:\n",
    "- format:  output format of the request. Json format is choosed\n",
    "- date: date range of the API request. From 2015 to 2022 as in the source data.\n",
    "- per_page: number of results per page. Length on the longest response."
   ]
  },
  {
   "cell_type": "code",
   "execution_count": 9,
   "id": "9a446035",
   "metadata": {},
   "outputs": [],
   "source": [
    "#Education: Mean years of schooling (ISCED 1 or higher), population 25+ years, both sexes\n",
    "schooling_years = api.worldbank_indicator(indicator_name='Avg. Schooling Years', indicator_code='UIS.EA.MEAN.1T6.AG25T99')"
   ]
  },
  {
   "cell_type": "code",
   "execution_count": 10,
   "id": "d4a0b44e",
   "metadata": {},
   "outputs": [
    {
     "data": {
      "text/html": [
       "<div>\n",
       "<style scoped>\n",
       "    .dataframe tbody tr th:only-of-type {\n",
       "        vertical-align: middle;\n",
       "    }\n",
       "\n",
       "    .dataframe tbody tr th {\n",
       "        vertical-align: top;\n",
       "    }\n",
       "\n",
       "    .dataframe thead th {\n",
       "        text-align: right;\n",
       "    }\n",
       "</style>\n",
       "<table border=\"1\" class=\"dataframe\">\n",
       "  <thead>\n",
       "    <tr style=\"text-align: right;\">\n",
       "      <th></th>\n",
       "      <th>Country code</th>\n",
       "      <th>Country</th>\n",
       "      <th>Year</th>\n",
       "      <th>Avg. Schooling Years</th>\n",
       "    </tr>\n",
       "  </thead>\n",
       "  <tbody>\n",
       "    <tr>\n",
       "      <th>0</th>\n",
       "      <td></td>\n",
       "      <td>Global Partnership for Education</td>\n",
       "      <td>2100</td>\n",
       "      <td>NaN</td>\n",
       "    </tr>\n",
       "    <tr>\n",
       "      <th>1</th>\n",
       "      <td></td>\n",
       "      <td>Global Partnership for Education</td>\n",
       "      <td>2095</td>\n",
       "      <td>NaN</td>\n",
       "    </tr>\n",
       "    <tr>\n",
       "      <th>2</th>\n",
       "      <td></td>\n",
       "      <td>Global Partnership for Education</td>\n",
       "      <td>2090</td>\n",
       "      <td>NaN</td>\n",
       "    </tr>\n",
       "    <tr>\n",
       "      <th>3</th>\n",
       "      <td></td>\n",
       "      <td>Global Partnership for Education</td>\n",
       "      <td>2085</td>\n",
       "      <td>NaN</td>\n",
       "    </tr>\n",
       "    <tr>\n",
       "      <th>4</th>\n",
       "      <td></td>\n",
       "      <td>Global Partnership for Education</td>\n",
       "      <td>2080</td>\n",
       "      <td>NaN</td>\n",
       "    </tr>\n",
       "    <tr>\n",
       "      <th>...</th>\n",
       "      <td>...</td>\n",
       "      <td>...</td>\n",
       "      <td>...</td>\n",
       "      <td>...</td>\n",
       "    </tr>\n",
       "    <tr>\n",
       "      <th>5891</th>\n",
       "      <td>ZW</td>\n",
       "      <td>Zimbabwe</td>\n",
       "      <td>2019</td>\n",
       "      <td>NaN</td>\n",
       "    </tr>\n",
       "    <tr>\n",
       "      <th>5892</th>\n",
       "      <td>ZW</td>\n",
       "      <td>Zimbabwe</td>\n",
       "      <td>2018</td>\n",
       "      <td>NaN</td>\n",
       "    </tr>\n",
       "    <tr>\n",
       "      <th>5893</th>\n",
       "      <td>ZW</td>\n",
       "      <td>Zimbabwe</td>\n",
       "      <td>2017</td>\n",
       "      <td>8.4668</td>\n",
       "    </tr>\n",
       "    <tr>\n",
       "      <th>5894</th>\n",
       "      <td>ZW</td>\n",
       "      <td>Zimbabwe</td>\n",
       "      <td>2016</td>\n",
       "      <td>NaN</td>\n",
       "    </tr>\n",
       "    <tr>\n",
       "      <th>5895</th>\n",
       "      <td>ZW</td>\n",
       "      <td>Zimbabwe</td>\n",
       "      <td>2015</td>\n",
       "      <td>NaN</td>\n",
       "    </tr>\n",
       "  </tbody>\n",
       "</table>\n",
       "<p>5896 rows × 4 columns</p>\n",
       "</div>"
      ],
      "text/plain": [
       "     Country code                           Country  Year  \\\n",
       "0                  Global Partnership for Education  2100   \n",
       "1                  Global Partnership for Education  2095   \n",
       "2                  Global Partnership for Education  2090   \n",
       "3                  Global Partnership for Education  2085   \n",
       "4                  Global Partnership for Education  2080   \n",
       "...           ...                               ...   ...   \n",
       "5891           ZW                          Zimbabwe  2019   \n",
       "5892           ZW                          Zimbabwe  2018   \n",
       "5893           ZW                          Zimbabwe  2017   \n",
       "5894           ZW                          Zimbabwe  2016   \n",
       "5895           ZW                          Zimbabwe  2015   \n",
       "\n",
       "      Avg. Schooling Years  \n",
       "0                      NaN  \n",
       "1                      NaN  \n",
       "2                      NaN  \n",
       "3                      NaN  \n",
       "4                      NaN  \n",
       "...                    ...  \n",
       "5891                   NaN  \n",
       "5892                   NaN  \n",
       "5893                8.4668  \n",
       "5894                   NaN  \n",
       "5895                   NaN  \n",
       "\n",
       "[5896 rows x 4 columns]"
      ]
     },
     "execution_count": 10,
     "metadata": {},
     "output_type": "execute_result"
    }
   ],
   "source": [
    "schooling_years"
   ]
  },
  {
   "cell_type": "code",
   "execution_count": 11,
   "id": "8f036a8f",
   "metadata": {},
   "outputs": [],
   "source": [
    "#Literacy rate, adult total (% of people ages 15 and above) - SE.ADT.LITR.ZS\n",
    "literacy = api.worldbank_indicator(indicator_name='Literacy Rate', indicator_code='SE.ADT.LITR.ZS')"
   ]
  },
  {
   "cell_type": "code",
   "execution_count": 12,
   "id": "42ffaa92",
   "metadata": {},
   "outputs": [
    {
     "data": {
      "text/html": [
       "<div>\n",
       "<style scoped>\n",
       "    .dataframe tbody tr th:only-of-type {\n",
       "        vertical-align: middle;\n",
       "    }\n",
       "\n",
       "    .dataframe tbody tr th {\n",
       "        vertical-align: top;\n",
       "    }\n",
       "\n",
       "    .dataframe thead th {\n",
       "        text-align: right;\n",
       "    }\n",
       "</style>\n",
       "<table border=\"1\" class=\"dataframe\">\n",
       "  <thead>\n",
       "    <tr style=\"text-align: right;\">\n",
       "      <th></th>\n",
       "      <th>Country code</th>\n",
       "      <th>Country</th>\n",
       "      <th>Year</th>\n",
       "      <th>Literacy Rate</th>\n",
       "    </tr>\n",
       "  </thead>\n",
       "  <tbody>\n",
       "    <tr>\n",
       "      <th>0</th>\n",
       "      <td>ZH</td>\n",
       "      <td>Africa Eastern and Southern</td>\n",
       "      <td>2021</td>\n",
       "      <td>NaN</td>\n",
       "    </tr>\n",
       "    <tr>\n",
       "      <th>1</th>\n",
       "      <td>ZH</td>\n",
       "      <td>Africa Eastern and Southern</td>\n",
       "      <td>2020</td>\n",
       "      <td>NaN</td>\n",
       "    </tr>\n",
       "    <tr>\n",
       "      <th>2</th>\n",
       "      <td>ZH</td>\n",
       "      <td>Africa Eastern and Southern</td>\n",
       "      <td>2019</td>\n",
       "      <td>NaN</td>\n",
       "    </tr>\n",
       "    <tr>\n",
       "      <th>3</th>\n",
       "      <td>ZH</td>\n",
       "      <td>Africa Eastern and Southern</td>\n",
       "      <td>2018</td>\n",
       "      <td>NaN</td>\n",
       "    </tr>\n",
       "    <tr>\n",
       "      <th>4</th>\n",
       "      <td>ZH</td>\n",
       "      <td>Africa Eastern and Southern</td>\n",
       "      <td>2017</td>\n",
       "      <td>NaN</td>\n",
       "    </tr>\n",
       "    <tr>\n",
       "      <th>...</th>\n",
       "      <td>...</td>\n",
       "      <td>...</td>\n",
       "      <td>...</td>\n",
       "      <td>...</td>\n",
       "    </tr>\n",
       "    <tr>\n",
       "      <th>1857</th>\n",
       "      <td>ZW</td>\n",
       "      <td>Zimbabwe</td>\n",
       "      <td>2019</td>\n",
       "      <td>NaN</td>\n",
       "    </tr>\n",
       "    <tr>\n",
       "      <th>1858</th>\n",
       "      <td>ZW</td>\n",
       "      <td>Zimbabwe</td>\n",
       "      <td>2018</td>\n",
       "      <td>NaN</td>\n",
       "    </tr>\n",
       "    <tr>\n",
       "      <th>1859</th>\n",
       "      <td>ZW</td>\n",
       "      <td>Zimbabwe</td>\n",
       "      <td>2017</td>\n",
       "      <td>NaN</td>\n",
       "    </tr>\n",
       "    <tr>\n",
       "      <th>1860</th>\n",
       "      <td>ZW</td>\n",
       "      <td>Zimbabwe</td>\n",
       "      <td>2016</td>\n",
       "      <td>NaN</td>\n",
       "    </tr>\n",
       "    <tr>\n",
       "      <th>1861</th>\n",
       "      <td>ZW</td>\n",
       "      <td>Zimbabwe</td>\n",
       "      <td>2015</td>\n",
       "      <td>NaN</td>\n",
       "    </tr>\n",
       "  </tbody>\n",
       "</table>\n",
       "<p>1862 rows × 4 columns</p>\n",
       "</div>"
      ],
      "text/plain": [
       "     Country code                      Country  Year  Literacy Rate\n",
       "0              ZH  Africa Eastern and Southern  2021            NaN\n",
       "1              ZH  Africa Eastern and Southern  2020            NaN\n",
       "2              ZH  Africa Eastern and Southern  2019            NaN\n",
       "3              ZH  Africa Eastern and Southern  2018            NaN\n",
       "4              ZH  Africa Eastern and Southern  2017            NaN\n",
       "...           ...                          ...   ...            ...\n",
       "1857           ZW                     Zimbabwe  2019            NaN\n",
       "1858           ZW                     Zimbabwe  2018            NaN\n",
       "1859           ZW                     Zimbabwe  2017            NaN\n",
       "1860           ZW                     Zimbabwe  2016            NaN\n",
       "1861           ZW                     Zimbabwe  2015            NaN\n",
       "\n",
       "[1862 rows x 4 columns]"
      ]
     },
     "execution_count": 12,
     "metadata": {},
     "output_type": "execute_result"
    }
   ],
   "source": [
    "literacy"
   ]
  },
  {
   "cell_type": "markdown",
   "id": "876c9060",
   "metadata": {},
   "source": [
    "### Merging datasets"
   ]
  },
  {
   "cell_type": "code",
   "execution_count": null,
   "id": "d65da3f2",
   "metadata": {},
   "outputs": [],
   "source": [
    "# They will all be left joins "
   ]
  },
  {
   "cell_type": "code",
   "execution_count": null,
   "id": "47a532c5",
   "metadata": {},
   "outputs": [],
   "source": [
    "# df - pollution - schooling_years - literacy"
   ]
  },
  {
   "cell_type": "code",
   "execution_count": null,
   "id": "ffcb0b8f",
   "metadata": {},
   "outputs": [],
   "source": [
    "# convert 'year' col of df into object to enable merge bc it's the only int64 one\n",
    "df['Year'] = df['Year'].astype(int) "
   ]
  },
  {
   "cell_type": "code",
   "execution_count": null,
   "id": "e08ca203",
   "metadata": {},
   "outputs": [],
   "source": [
    "pollution['Year'] = pollution['Year'].astype(int) "
   ]
  },
  {
   "cell_type": "code",
   "execution_count": null,
   "id": "a8496816",
   "metadata": {},
   "outputs": [],
   "source": [
    "literacy['Year'] = literacy['Year'].astype(int) "
   ]
  },
  {
   "cell_type": "code",
   "execution_count": null,
   "id": "c7a62c55",
   "metadata": {},
   "outputs": [],
   "source": [
    "schooling_years['Year'] = schooling_years['Year'].astype(int) "
   ]
  },
  {
   "cell_type": "code",
   "execution_count": null,
   "id": "73c8fdf6",
   "metadata": {},
   "outputs": [],
   "source": [
    "schooling_years.dtypes"
   ]
  },
  {
   "cell_type": "code",
   "execution_count": null,
   "id": "9c0ea340",
   "metadata": {},
   "outputs": [],
   "source": [
    "list(df.Country.unique())"
   ]
  },
  {
   "cell_type": "code",
   "execution_count": null,
   "id": "f8df61f3",
   "metadata": {},
   "outputs": [],
   "source": [
    "pollution[pollution.Country=='Spain']"
   ]
  },
  {
   "cell_type": "code",
   "execution_count": null,
   "id": "5c8f336f",
   "metadata": {},
   "outputs": [],
   "source": [
    "pd.merge(df, pollution, on=[\"Country\", \"Year\"], how=\"left\")"
   ]
  },
  {
   "cell_type": "markdown",
   "id": "7ef7942d",
   "metadata": {},
   "source": [
    "**Try to merge df with API**"
   ]
  },
  {
   "cell_type": "code",
   "execution_count": null,
   "id": "7bde20d1",
   "metadata": {},
   "outputs": [],
   "source": [
    "test = pd.merge(df, literacy, on=[\"Country\", \"Year\"], how=\"left\")"
   ]
  },
  {
   "cell_type": "code",
   "execution_count": null,
   "id": "9663129f",
   "metadata": {},
   "outputs": [],
   "source": [
    "test[test[\"Litaracy Rate\"].notna()]"
   ]
  },
  {
   "cell_type": "code",
   "execution_count": null,
   "id": "9fffee17",
   "metadata": {
    "scrolled": false
   },
   "outputs": [],
   "source": [
    "(pd.merge(df, literacy, on=[\"Country\", \"Year\"], how=\"left\"))['Literacy Rate'].isna().sum()"
   ]
  },
  {
   "cell_type": "code",
   "execution_count": null,
   "id": "6fd2170b",
   "metadata": {},
   "outputs": [],
   "source": [
    "(pd.merge(df, literacy, on=[\"Country code\", \"Year\"], how=\"left\"))['Literacy Rate'].isna().sum()"
   ]
  },
  {
   "cell_type": "code",
   "execution_count": null,
   "id": "a807bcbc",
   "metadata": {},
   "outputs": [],
   "source": [
    "countries"
   ]
  },
  {
   "cell_type": "code",
   "execution_count": null,
   "id": "8ded79b8",
   "metadata": {},
   "outputs": [],
   "source": [
    "def do_fuzzy_search(country):\n",
    "    try:\n",
    "        result = pycountry.countries.search_fuzzy(country)\n",
    "        return result[0].alpha_2\n",
    "    except:\n",
    "        return np.nan\n",
    "\n",
    "df[\"Country code\"] = df[\"Country\"].apply(lambda country: do_fuzzy_search(country))"
   ]
  },
  {
   "cell_type": "code",
   "execution_count": null,
   "id": "6eb9f269",
   "metadata": {},
   "outputs": [],
   "source": [
    "df['Country Code'].isna().sum()"
   ]
  },
  {
   "cell_type": "code",
   "execution_count": null,
   "id": "a98d7c16",
   "metadata": {},
   "outputs": [],
   "source": []
  }
 ],
 "metadata": {
  "kernelspec": {
   "display_name": "Python 3 (ipykernel)",
   "language": "python",
   "name": "python3"
  },
  "language_info": {
   "codemirror_mode": {
    "name": "ipython",
    "version": 3
   },
   "file_extension": ".py",
   "mimetype": "text/x-python",
   "name": "python",
   "nbconvert_exporter": "python",
   "pygments_lexer": "ipython3",
   "version": "3.9.12"
  },
  "toc": {
   "base_numbering": "1",
   "nav_menu": {},
   "number_sections": true,
   "sideBar": true,
   "skip_h1_title": true,
   "title_cell": "Table of Contents",
   "title_sidebar": "Contents",
   "toc_cell": false,
   "toc_position": {},
   "toc_section_display": true,
   "toc_window_display": true
  }
 },
 "nbformat": 4,
 "nbformat_minor": 5
}
