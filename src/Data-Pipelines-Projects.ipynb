{
 "cells": [
  {
   "cell_type": "markdown",
   "id": "895846e5",
   "metadata": {},
   "source": [
    "# Data-Pipelines"
   ]
  },
  {
   "cell_type": "markdown",
   "id": "0dd12391",
   "metadata": {},
   "source": [
    "## Libraries\n"
   ]
  },
  {
   "cell_type": "code",
   "execution_count": 1,
   "id": "63cf7443",
   "metadata": {},
   "outputs": [],
   "source": [
    "import seaborn as sns\n",
    "import matplotlib.pyplot as plt\n",
    "import pandas as pd\n",
    "import plotly.express as px\n",
    "import re\n",
    "import numpy as np\n",
    "import squarify \n",
    "import calendar\n",
    "import requests\n",
    "from bs4 import BeautifulSoup\n",
    "import pycountry"
   ]
  },
  {
   "cell_type": "markdown",
   "id": "d92a36f4",
   "metadata": {},
   "source": [
    "## Context and hypotheses"
   ]
  },
  {
   "cell_type": "markdown",
   "id": "002fdc62",
   "metadata": {},
   "source": [
    "Other possible variables to consider, not included in this analysis: unemployment rate, gender (in)equality"
   ]
  },
  {
   "cell_type": "markdown",
   "id": "e473320f",
   "metadata": {},
   "source": [
    "## Data Collection Process"
   ]
  },
  {
   "cell_type": "markdown",
   "id": "2bbbc743",
   "metadata": {},
   "source": [
    "### Original Dataset from Kaggle"
   ]
  },
  {
   "cell_type": "code",
   "execution_count": null,
   "id": "bd2afe59",
   "metadata": {},
   "outputs": [],
   "source": [
    "## Objetivo: Descargar un datset y enriqucerlo con api y web spcraping"
   ]
  },
  {
   "cell_type": "markdown",
   "id": "c7672ae6",
   "metadata": {},
   "source": [
    "World happiness report 2015-2022 (AUTHORS, LITTLE EXPLANATION REPORT AND DATASET, IN WHICH CHAPTER THEY USE DATASET, MAYBE SHOW ORIGINAL GRAPHS FROM REPORT\n",
    "--> stuty happiest/least happy countries relate with pollution around the world. \n",
    "Web scraping of https://worldpopulationreview.com/country-rankings/most-polluted-countries "
   ]
  },
  {
   "cell_type": "code",
   "execution_count": 2,
   "id": "f95c98f8",
   "metadata": {},
   "outputs": [],
   "source": [
    "df = pd.read_csv(\"../input/world-happiness-report-2015-2022-cleaned.csv\")"
   ]
  },
  {
   "cell_type": "code",
   "execution_count": null,
   "id": "202fd29f",
   "metadata": {},
   "outputs": [],
   "source": [
    "df"
   ]
  },
  {
   "cell_type": "code",
   "execution_count": null,
   "id": "beb22814",
   "metadata": {},
   "outputs": [],
   "source": [
    "df['Country'] = df['Country'].str.replace(\"*\", \"\")"
   ]
  },
  {
   "cell_type": "markdown",
   "id": "f3e8676d",
   "metadata": {},
   "source": [
    "### IQ Air Web scraping"
   ]
  },
  {
   "cell_type": "code",
   "execution_count": null,
   "id": "3f95c00a",
   "metadata": {},
   "outputs": [],
   "source": [
    "## Web scraping to obtain air pollution by country\n",
    "# Website = https://www.iqair.com/world-most-polluted-countries\n",
    "# table = Most polluted country and region ranking based on annual average PM2.5 concentration (μg/m³)"
   ]
  },
  {
   "cell_type": "markdown",
   "id": "3d18cfdf",
   "metadata": {},
   "source": [
    "Find the following columns from the website:\n",
    "- Rank\n",
    "- Country/Region\t\n",
    "- 2018\t\t\n",
    "- 2019\t\n",
    "- 2020\t\n",
    "- 2021\n",
    "- Population"
   ]
  },
  {
   "cell_type": "code",
   "execution_count": null,
   "id": "393416cd",
   "metadata": {},
   "outputs": [],
   "source": [
    "def scrape_column(obj, attrs, soup):\n",
    "    \"\"\"\n",
    "    Finds the column in the soup\n",
    "    Args: the object and attribute of the soup\n",
    "    Returns: list of the elements of the column\n",
    "    \"\"\"\n",
    "    find = soup.find_all(obj, attrs=attrs)\n",
    "    return [i.getText().strip() for i in find]"
   ]
  },
  {
   "cell_type": "code",
   "execution_count": null,
   "id": "5089dd89",
   "metadata": {},
   "outputs": [],
   "source": [
    "def generate_df(rank, country, year_2018, year_2019, year_2020, year_2021, population):\n",
    "    \"\"\"\n",
    "    Creates a df from the scraped cols\n",
    "    Args: the 7 scraped cols\n",
    "    Returns: unpivot df = the 4 year cols in one\n",
    "    \"\"\"\n",
    "    \n",
    "    pollution_country = {\n",
    "    \"Rank\":rank,\n",
    "    \"Country\":country,\n",
    "    \"2018\":year_2018,\n",
    "    \"2019\":year_2019,\n",
    "    \"2020\":year_2020,\n",
    "    \"2021\":year_2021,\n",
    "    \"Population\":population\n",
    "}\n",
    "    df = pd.DataFrame(pollution_country)\n",
    "    df_unpivot = pd.melt(df, id_vars=['Country', 'Population'], value_vars=['2018', '2019', '2020', '2021'], var_name='Year', value_name='Pollution')\n",
    "    return df_unpivot "
   ]
  },
  {
   "cell_type": "code",
   "execution_count": null,
   "id": "fb0c75e3",
   "metadata": {},
   "outputs": [],
   "source": [
    "def scrape_iqair():\n",
    "    \"\"\"\n",
    "    Scrapes iqair website\n",
    "    Returns: outputs data in pandas df\n",
    "    \"\"\"\n",
    "    url = \"https://www.iqair.com/world-most-polluted-countries\"\n",
    "    html = requests.get(url)\n",
    "    soup = BeautifulSoup(html.content, \"html.parser\")\n",
    "    rank = scrape_column('td', {\"class\":\"mat-cell cdk-cell table--cell__rank cdk-column-rank mat-column-rank ng-star-inserted\"}, soup)\n",
    "    country = scrape_column('div', {\"class\":\"country-name\"}, soup)\n",
    "    year_2018 = scrape_column('td', {\"class\":\"mat-cell cdk-cell table--cell__year__country has-single-badge is-radius-left is-radius-right cdk-column-avg2018 mat-column-avg2018 ng-star-inserted\"}, soup)\n",
    "    year_2019 = scrape_column('td', {\"class\":\"mat-cell cdk-cell table--cell__year__country has-single-badge is-radius-left is-radius-right cdk-column-avg2019 mat-column-avg2019 ng-star-inserted\"}, soup)\n",
    "    year_2020 = scrape_column('td', {\"class\":\"mat-cell cdk-cell table--cell__year__country has-single-badge is-radius-left is-radius-right cdk-column-avg2020 mat-column-avg2020 ng-star-inserted\"}, soup)\n",
    "    year_2021 = scrape_column('td', {\"class\":\"mat-cell cdk-cell table--cell__year__country has-single-badge is-radius-left is-radius-right cdk-column-avg2021 mat-column-avg2021 ng-star-inserted\"}, soup)\n",
    "    population = scrape_column('td', {\"class\":\"mat-cell cdk-cell is-radius-left is-radius-right table--cell__population cdk-column-population mat-column-population ng-star-inserted\"}, soup)\n",
    "    df = generate_df(rank, country, year_2018, year_2019, year_2020, year_2021, population)\n",
    "    return df\n",
    "    "
   ]
  },
  {
   "cell_type": "code",
   "execution_count": null,
   "id": "9007d08b",
   "metadata": {},
   "outputs": [],
   "source": [
    "pollution = scrape_iqair()"
   ]
  },
  {
   "cell_type": "code",
   "execution_count": null,
   "id": "821fb629",
   "metadata": {},
   "outputs": [],
   "source": [
    "pollution"
   ]
  },
  {
   "cell_type": "markdown",
   "id": "fc8f192e",
   "metadata": {},
   "source": [
    "###  World Bank Indicators API"
   ]
  },
  {
   "cell_type": "markdown",
   "id": "1b914be4",
   "metadata": {},
   "source": [
    "The World Bank Indicators API provides access to nearly 16,000 time series indicators. Most of these indicators are available online through tools such as Databank and the Open Data website. The API provides programmatic access to this same data. Many data series date back over 50 years, and can be used to create interesting applications.\n",
    "The Indicators API provides access to over 45 databases and no authentication method is required to access the API.\n",
    "\n",
    "**URL usage**\n",
    "\n",
    "The basic url for the v2 API version of the World Bank Indicators is `http://api.worldbank.org/v2/country/all/indicator/indicator_code` where indicator_code has to be replaced by the id of the indicator to extract data for.\n",
    "\n",
    "The API supports query string on the url, and the following ones have been used:\n",
    "- format:  output format of the request. Json format is choosed\n",
    "- date: date range of the API request. From 2015 to 2022 as in the source data.\n",
    "- per_page: number of results per page. Length on the longest response."
   ]
  },
  {
   "cell_type": "code",
   "execution_count": 3,
   "id": "679f8f8f",
   "metadata": {},
   "outputs": [],
   "source": [
    "def worldbank_indicator(indicator_name, indicator_code):\n",
    "    url = 'http://api.worldbank.org/v2/country/all/indicator/{}?format=json&date=2015:2022&per_page=6000'\n",
    "    response = requests.get(url.format(indicator_code))\n",
    "    data = response.json()\n",
    "    df = pd.json_normalize(data[1])\n",
    "    df = df[['country.id','country.value', 'date', 'value']]\n",
    "    df.columns = ['Country code', 'Country', 'Year', indicator_name]\n",
    "    return df"
   ]
  },
  {
   "cell_type": "code",
   "execution_count": null,
   "id": "a329f0d3",
   "metadata": {},
   "outputs": [],
   "source": [
    "#Education: Mean years of schooling (ISCED 1 or higher), population 25+ years, both sexes\n",
    "schooling_years = worldbank_indicator(indicator_name='Avg. Schooling Years', indicator_code='UIS.EA.MEAN.1T6.AG25T99')"
   ]
  },
  {
   "cell_type": "code",
   "execution_count": null,
   "id": "fcc75da3",
   "metadata": {},
   "outputs": [],
   "source": [
    "schooling_years"
   ]
  },
  {
   "cell_type": "code",
   "execution_count": 4,
   "id": "5a168205",
   "metadata": {},
   "outputs": [],
   "source": [
    "#Literacy rate, adult total (% of people ages 15 and above) - SE.ADT.LITR.ZS\n",
    "literacy = worldbank_indicator(indicator_name='Literacy Rate', indicator_code='SE.ADT.LITR.ZS')"
   ]
  },
  {
   "cell_type": "code",
   "execution_count": null,
   "id": "7890c952",
   "metadata": {},
   "outputs": [],
   "source": [
    "literacy"
   ]
  },
  {
   "cell_type": "markdown",
   "id": "c272f34b",
   "metadata": {},
   "source": [
    "### Merging datasets"
   ]
  },
  {
   "cell_type": "code",
   "execution_count": null,
   "id": "4125f2c6",
   "metadata": {},
   "outputs": [],
   "source": [
    "# They will all be left joins "
   ]
  },
  {
   "cell_type": "code",
   "execution_count": null,
   "id": "9c1cc84a",
   "metadata": {},
   "outputs": [],
   "source": [
    "# df - pollution - schooling_years - literacy"
   ]
  },
  {
   "cell_type": "code",
   "execution_count": null,
   "id": "10bc7241",
   "metadata": {},
   "outputs": [],
   "source": [
    "# convert 'year' col of df into object to enable merge bc it's the only int64 one\n",
    "df['Year'] = df['Year'].astype(int) "
   ]
  },
  {
   "cell_type": "code",
   "execution_count": null,
   "id": "916986cd",
   "metadata": {},
   "outputs": [],
   "source": [
    "pollution['Year'] = pollution['Year'].astype(int) "
   ]
  },
  {
   "cell_type": "code",
   "execution_count": 5,
   "id": "f1d36670",
   "metadata": {},
   "outputs": [],
   "source": [
    "literacy['Year'] = literacy['Year'].astype(int) "
   ]
  },
  {
   "cell_type": "code",
   "execution_count": null,
   "id": "f50e2886",
   "metadata": {},
   "outputs": [],
   "source": [
    "schooling_years['Year'] = schooling_years['Year'].astype(int) "
   ]
  },
  {
   "cell_type": "code",
   "execution_count": null,
   "id": "6d8759c5",
   "metadata": {},
   "outputs": [],
   "source": [
    "schooling_years.dtypes"
   ]
  },
  {
   "cell_type": "code",
   "execution_count": null,
   "id": "dfa97238",
   "metadata": {},
   "outputs": [],
   "source": [
    "list(df.Country.unique())"
   ]
  },
  {
   "cell_type": "code",
   "execution_count": null,
   "id": "fcc2c0ae",
   "metadata": {},
   "outputs": [],
   "source": [
    "pollution[pollution.Country=='Spain']"
   ]
  },
  {
   "cell_type": "code",
   "execution_count": null,
   "id": "9194d80f",
   "metadata": {},
   "outputs": [],
   "source": [
    "pd.merge(df, pollution, on=[\"Country\", \"Year\"], how=\"left\")"
   ]
  },
  {
   "cell_type": "markdown",
   "id": "aeb56fd5",
   "metadata": {},
   "source": [
    "**Try to merge df with API**"
   ]
  },
  {
   "cell_type": "code",
   "execution_count": null,
   "id": "237c5e42",
   "metadata": {},
   "outputs": [],
   "source": [
    "test = pd.merge(df, literacy, on=[\"Country\", \"Year\"], how=\"left\")"
   ]
  },
  {
   "cell_type": "code",
   "execution_count": null,
   "id": "6fc84d17",
   "metadata": {},
   "outputs": [],
   "source": [
    "test[test[\"Litaracy Rate\"].notna()]"
   ]
  },
  {
   "cell_type": "code",
   "execution_count": 6,
   "id": "7f7170ca",
   "metadata": {
    "scrolled": false
   },
   "outputs": [
    {
     "data": {
      "text/plain": [
       "1045"
      ]
     },
     "execution_count": 6,
     "metadata": {},
     "output_type": "execute_result"
    }
   ],
   "source": [
    "(pd.merge(df, literacy, on=[\"Country\", \"Year\"], how=\"left\"))['Literacy Rate'].isna().sum()"
   ]
  },
  {
   "cell_type": "code",
   "execution_count": 9,
   "id": "58e65260",
   "metadata": {},
   "outputs": [
    {
     "data": {
      "text/plain": [
       "1033"
      ]
     },
     "execution_count": 9,
     "metadata": {},
     "output_type": "execute_result"
    }
   ],
   "source": [
    "(pd.merge(df, literacy, on=[\"Country code\", \"Year\"], how=\"left\"))['Literacy Rate'].isna().sum()"
   ]
  },
  {
   "cell_type": "code",
   "execution_count": null,
   "id": "aa4e4580",
   "metadata": {},
   "outputs": [],
   "source": [
    "countries"
   ]
  },
  {
   "cell_type": "code",
   "execution_count": 7,
   "id": "b2f9f32e",
   "metadata": {},
   "outputs": [],
   "source": [
    "def do_fuzzy_search(country):\n",
    "    try:\n",
    "        result = pycountry.countries.search_fuzzy(country)\n",
    "        return result[0].alpha_2\n",
    "    except:\n",
    "        return np.nan\n",
    "\n",
    "df[\"Country code\"] = df[\"Country\"].apply(lambda country: do_fuzzy_search(country))"
   ]
  },
  {
   "cell_type": "code",
   "execution_count": null,
   "id": "265ce66f",
   "metadata": {},
   "outputs": [],
   "source": [
    "df['Country Code'].isna().sum()"
   ]
  },
  {
   "cell_type": "code",
   "execution_count": null,
   "id": "8be4db95",
   "metadata": {},
   "outputs": [],
   "source": []
  }
 ],
 "metadata": {
  "kernelspec": {
   "display_name": "Python 3 (ipykernel)",
   "language": "python",
   "name": "python3"
  },
  "language_info": {
   "codemirror_mode": {
    "name": "ipython",
    "version": 3
   },
   "file_extension": ".py",
   "mimetype": "text/x-python",
   "name": "python",
   "nbconvert_exporter": "python",
   "pygments_lexer": "ipython3",
   "version": "3.9.12"
  },
  "toc": {
   "base_numbering": "1",
   "nav_menu": {},
   "number_sections": true,
   "sideBar": true,
   "skip_h1_title": true,
   "title_cell": "Table of Contents",
   "title_sidebar": "Contents",
   "toc_cell": false,
   "toc_position": {},
   "toc_section_display": true,
   "toc_window_display": true
  }
 },
 "nbformat": 4,
 "nbformat_minor": 5
}
